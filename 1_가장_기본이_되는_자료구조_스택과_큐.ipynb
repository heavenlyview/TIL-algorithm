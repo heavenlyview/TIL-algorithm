{
  "nbformat": 4,
  "nbformat_minor": 0,
  "metadata": {
    "colab": {
      "name": "1. 가장 기본이 되는 자료구조: 스택과 큐",
      "provenance": [],
      "collapsed_sections": [],
      "authorship_tag": "ABX9TyPCzOn1dxilmpm+sj45psQG",
      "include_colab_link": true
    },
    "kernelspec": {
      "name": "python3",
      "display_name": "Python 3"
    },
    "language_info": {
      "name": "python"
    }
  },
  "cells": [
    {
      "cell_type": "markdown",
      "metadata": {
        "id": "view-in-github",
        "colab_type": "text"
      },
      "source": [
        "<a href=\"https://colab.research.google.com/github/heavenlyview/TIL-algorithm/blob/master/1_%EA%B0%80%EC%9E%A5_%EA%B8%B0%EB%B3%B8%EC%9D%B4_%EB%90%98%EB%8A%94_%EC%9E%90%EB%A3%8C%EA%B5%AC%EC%A1%B0_%EC%8A%A4%ED%83%9D%EA%B3%BC_%ED%81%90.ipynb\" target=\"_parent\"><img src=\"https://colab.research.google.com/assets/colab-badge.svg\" alt=\"Open In Colab\"/></a>"
      ]
    },
    {
      "cell_type": "markdown",
      "source": [
        "#**스택 자료구조**\n",
        "\n",
        "먼저 들어 온 데이터가 나중에 나가는 형식의 자료구조\n",
        "**(선입후출)**\n",
        "\n",
        "입구와 출구가 동일한 형태로 스택을 시각화 할 수 있다\n",
        "\n",
        "예) 박스쌓기\n",
        "입력할 때: 가장 밑쪽에 있는 박스부터\n",
        "출력할 때: 가장 위쪽에 있는 박스부터\n"
      ],
      "metadata": {
        "id": "np8rY8HgfsFI"
      }
    },
    {
      "cell_type": "markdown",
      "source": [
        "# 스택 동작 예시\n",
        "\n",
        "삽입-삭제\n",
        "\n",
        "삽입(5)-삽입(2)-삽입(3)-삽입(7)-삭제()-삽입(1)-삽입(4)-삭제()\n"
      ],
      "metadata": {
        "id": "E_eGCsHLgIlw"
      }
    },
    {
      "cell_type": "code",
      "source": [],
      "metadata": {
        "id": "h0lywgIDgcZ3"
      },
      "execution_count": null,
      "outputs": []
    },
    {
      "cell_type": "markdown",
      "source": [
        "#스택 구현 예제 (Python)"
      ],
      "metadata": {
        "id": "VlisGFkKgg24"
      }
    },
    {
      "cell_type": "code",
      "source": [
        "stack = []\n",
        "# 삽입(5)-삽입(2)-삽입(3)-삽입(7)-삭제()-삽입(1)-삽입(4)-삭제()\n",
        "stack.append(5)\n",
        "stack.append(2)\n",
        "stack.append(3)\n",
        "stack.append(7)\n",
        "stack.pop()\n",
        "stack.append(1)\n",
        "stack.append(4)\n",
        "stack.pop()\n",
        "\n",
        "print(stack[::-1]) #최상단 원소부터 출력\n",
        "print(stack) #최하단 원소부터 출력"
      ],
      "metadata": {
        "colab": {
          "base_uri": "https://localhost:8080/"
        },
        "id": "A2RexNWBggfX",
        "outputId": "fa5c8e7d-961c-49cc-b7db-83240ac4376a"
      },
      "execution_count": null,
      "outputs": [
        {
          "output_type": "stream",
          "name": "stdout",
          "text": [
            "[1, 3, 2, 5]\n",
            "[5, 2, 3, 1]\n"
          ]
        }
      ]
    },
    {
      "cell_type": "markdown",
      "source": [
        "# 큐 자료구조\n",
        "## (편의점 음료수 진열대)\n",
        "\n",
        "먼저 들어 온 데이터가 먼저 나가는 형식(선입선출)의 자료구조\n",
        "\n",
        "**큐**는 **입구와 출구가 모두 뚫려 있는** 터널과 같은 형태로 시각화 할 수 있다\n",
        "**굵은 텍스트**\n",
        "\n",
        "\n",
        "\n",
        "삽입(5)-삽입(2)-삽입(3)-삽입(7)-삭제()-삽입(1)-삽입(4)-삭제()\n"
      ],
      "metadata": {
        "id": "g_BqYz26dwV2"
      }
    },
    {
      "cell_type": "code",
      "source": [
        "# 큐 구현 예제 (Python)\n",
        "\n",
        "from collections import deque\n",
        "\n",
        "#큐(Queue) 구현을 위해 deque 라이브러리 사용\n",
        "queue = deque()\n",
        "\n",
        "# 삽입(5) - 삽입(2) - 삽입(3) - 삽입(7) - 삭제() - 삽입(1) - 삽입(4) - 삭제()\n",
        "queue.append(5)\n",
        "queue.append(2)\n",
        "queue.append(3)\n",
        "queue.append(7)\n",
        "queue.popleft()\n",
        "queue.append(1)\n",
        "queue.append(4)\n",
        "queue.popleft()\n",
        "\n",
        "print(queue) #먼저 들어온 순서대로 출력\n",
        "queue.reverse() #역순으로 바꾸기\n",
        "print(queue) # 나중에 들어온 원소부터 출력\n",
        "\n"
      ],
      "metadata": {
        "id": "mkxQhLSng7e5",
        "colab": {
          "base_uri": "https://localhost:8080/"
        },
        "outputId": "c3d256cb-f8b3-4320-f62e-4c6531962993"
      },
      "execution_count": null,
      "outputs": [
        {
          "output_type": "stream",
          "name": "stdout",
          "text": [
            "deque([3, 7, 1, 4])\n",
            "deque([4, 1, 7, 3])\n"
          ]
        }
      ]
    },
    {
      "cell_type": "code",
      "source": [],
      "metadata": {
        "id": "NLLI7-AWfWij"
      },
      "execution_count": null,
      "outputs": []
    }
  ]
}